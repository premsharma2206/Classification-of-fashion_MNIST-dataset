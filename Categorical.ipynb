{
  "nbformat": 4,
  "nbformat_minor": 0,
  "metadata": {
    "colab": {
      "name": "Categorical.ipynb",
      "provenance": [],
      "collapsed_sections": [],
      "toc_visible": true,
      "include_colab_link": true
    },
    "kernelspec": {
      "name": "python3",
      "display_name": "Python 3"
    },
    "accelerator": "GPU"
  },
  "cells": [
    {
      "cell_type": "markdown",
      "metadata": {
        "id": "view-in-github",
        "colab_type": "text"
      },
      "source": [
        "<a href=\"https://colab.research.google.com/github/premsharma2206/Classification-of-fashion_MNIST-dataset/blob/master/Categorical.ipynb\" target=\"_parent\"><img src=\"https://colab.research.google.com/assets/colab-badge.svg\" alt=\"Open In Colab\"/></a>"
      ]
    },
    {
      "cell_type": "code",
      "metadata": {
        "id": "dvl-r1HABPQA",
        "colab_type": "code",
        "colab": {
          "base_uri": "https://localhost:8080/",
          "height": 34
        },
        "outputId": "ea9206a7-6759-44d1-f4d8-16758f09b449"
      },
      "source": [
        "import numpy as np\n",
        "import pandas as pd\n",
        "import tensorflow as tf\n",
        "import keras\n",
        "import matplotlib.pyplot as plt\n",
        "from sklearn.model_selection import train_test_split\n",
        "from keras.utils import to_categorical"
      ],
      "execution_count": 1,
      "outputs": [
        {
          "output_type": "stream",
          "text": [
            "Using TensorFlow backend.\n"
          ],
          "name": "stderr"
        }
      ]
    },
    {
      "cell_type": "code",
      "metadata": {
        "id": "HmVX6vQbCFEB",
        "colab_type": "code",
        "colab": {
          "base_uri": "https://localhost:8080/",
          "height": 151
        },
        "outputId": "70e49ec7-3551-4e5d-ebb6-f16d1a3764aa"
      },
      "source": [
        "# Load the fashion-mnist pre-shuffled train data and test data\n",
        "(X_train, Y_train), (X_test, Y_test) = tf.keras.datasets.fashion_mnist.load_data()"
      ],
      "execution_count": 2,
      "outputs": [
        {
          "output_type": "stream",
          "text": [
            "Downloading data from https://storage.googleapis.com/tensorflow/tf-keras-datasets/train-labels-idx1-ubyte.gz\n",
            "32768/29515 [=================================] - 0s 0us/step\n",
            "Downloading data from https://storage.googleapis.com/tensorflow/tf-keras-datasets/train-images-idx3-ubyte.gz\n",
            "26427392/26421880 [==============================] - 0s 0us/step\n",
            "Downloading data from https://storage.googleapis.com/tensorflow/tf-keras-datasets/t10k-labels-idx1-ubyte.gz\n",
            "8192/5148 [===============================================] - 0s 0us/step\n",
            "Downloading data from https://storage.googleapis.com/tensorflow/tf-keras-datasets/t10k-images-idx3-ubyte.gz\n",
            "4423680/4422102 [==============================] - 0s 0us/step\n"
          ],
          "name": "stdout"
        }
      ]
    },
    {
      "cell_type": "code",
      "metadata": {
        "id": "k889bERwCbbv",
        "colab_type": "code",
        "colab": {
          "base_uri": "https://localhost:8080/",
          "height": 34
        },
        "outputId": "4ec71964-14fb-4ba2-cce4-bd283238371d"
      },
      "source": [
        "# Print training set shape - note there are 60,000 training data of image size of 28x28, 60,000 train labels)\n",
        "print(\"X_train shape:\", X_train.shape, \"Y_train shape:\", Y_train.shape)\n",
        "\n",
        "# Define the labels\n",
        "fashion_mnist_labels = [\"T-shirt/top\",  # index 0\n",
        "                        \"Trouser\",      # index 1\n",
        "                        \"Pullover\",     # index 2 \n",
        "                        \"Dress\",        # index 3 \n",
        "                        \"Coat\",         # index 4\n",
        "                        \"Sandal\",       # index 5\n",
        "                        \"Shirt\",        # index 6 \n",
        "                        \"Sneaker\",      # index 7 \n",
        "                        \"Bag\",          # index 8 \n",
        "                        \"Ankle boot\"]   # index 9"
      ],
      "execution_count": 3,
      "outputs": [
        {
          "output_type": "stream",
          "text": [
            "X_train shape: (60000, 28, 28) Y_train shape: (60000,)\n"
          ],
          "name": "stdout"
        }
      ]
    },
    {
      "cell_type": "code",
      "metadata": {
        "id": "Z3BfHegJC9Hm",
        "colab_type": "code",
        "colab": {
          "base_uri": "https://localhost:8080/",
          "height": 34
        },
        "outputId": "f9b53882-df30-46eb-bc6e-65cde5221923"
      },
      "source": [
        "img_rows, img_cols = 28,28\n",
        "print(X_train.shape[0])"
      ],
      "execution_count": 24,
      "outputs": [
        {
          "output_type": "stream",
          "text": [
            "60000\n"
          ],
          "name": "stdout"
        }
      ]
    },
    {
      "cell_type": "code",
      "metadata": {
        "id": "-XY6SifzDB4Y",
        "colab_type": "code",
        "colab": {}
      },
      "source": [
        "# CNN\n",
        "X_train_cnn = X_train.reshape(X_train.shape[0],img_rows,img_cols,1)\n",
        "X_test_cnn = X_test.reshape(X_test.shape[0],img_rows,img_cols,1)\n"
      ],
      "execution_count": 5,
      "outputs": []
    },
    {
      "cell_type": "code",
      "metadata": {
        "id": "UaITN7ikDk-7",
        "colab_type": "code",
        "colab": {
          "base_uri": "https://localhost:8080/",
          "height": 34
        },
        "outputId": "73e992d2-0b3f-4c9f-e1ef-60e0824b025b"
      },
      "source": [
        "print(X_train_cnn.shape)"
      ],
      "execution_count": 6,
      "outputs": [
        {
          "output_type": "stream",
          "text": [
            "(60000, 28, 28, 1)\n"
          ],
          "name": "stdout"
        }
      ]
    },
    {
      "cell_type": "code",
      "metadata": {
        "id": "tV7ht-OjC_J0",
        "colab_type": "code",
        "colab": {}
      },
      "source": [
        "X_train_cnn = X_train_cnn.astype('float32')\n",
        "X_test_cnn = X_test_cnn.astype('float32')\n",
        "X_train_cnn /= 255\n",
        "X_test_cnn /= 255"
      ],
      "execution_count": 7,
      "outputs": []
    },
    {
      "cell_type": "code",
      "metadata": {
        "id": "bdO9Dl08EO3p",
        "colab_type": "code",
        "colab": {}
      },
      "source": [
        "# Convert class vectors to binary class matrices\n",
        "num_classes = 10\n",
        "\n",
        "Y_train_cnn = keras.utils.to_categorical(Y_train,num_classes)\n",
        "Y_test_cnn = keras.utils.to_categorical(Y_test,num_classes)"
      ],
      "execution_count": 9,
      "outputs": []
    },
    {
      "cell_type": "code",
      "metadata": {
        "id": "KM-qNaGpEcMG",
        "colab_type": "code",
        "colab": {
          "base_uri": "https://localhost:8080/",
          "height": 101
        },
        "outputId": "af466035-38d8-46ba-e726-d05e755bd236"
      },
      "source": [
        "Y_train_cnn[:5,:]"
      ],
      "execution_count": 34,
      "outputs": [
        {
          "output_type": "execute_result",
          "data": {
            "text/plain": [
              "array([[0., 0., 0., 1., 0., 0., 0., 0., 0., 0.],\n",
              "       [0., 0., 0., 0., 1., 0., 0., 0., 0., 0.],\n",
              "       [0., 0., 0., 1., 0., 0., 0., 0., 0., 0.],\n",
              "       [0., 0., 0., 0., 0., 0., 0., 0., 0., 1.],\n",
              "       [0., 0., 0., 1., 0., 0., 0., 0., 0., 0.]], dtype=float32)"
            ]
          },
          "metadata": {
            "tags": []
          },
          "execution_count": 34
        }
      ]
    },
    {
      "cell_type": "code",
      "metadata": {
        "id": "C1LezZKuEgRy",
        "colab_type": "code",
        "colab": {}
      },
      "source": [
        "# Split data to optimize classifier during training\n",
        "X_train_cnn, X_val_cnn, Y_train_cnn, Y_val_cnn = train_test_split(X_train_cnn, Y_train_cnn, test_size=0.2)"
      ],
      "execution_count": 11,
      "outputs": []
    },
    {
      "cell_type": "code",
      "metadata": {
        "id": "A60Al_34Erih",
        "colab_type": "code",
        "colab": {
          "base_uri": "https://localhost:8080/",
          "height": 50
        },
        "outputId": "1a9440c7-a9c0-4e7c-a35d-7bb163637f67"
      },
      "source": [
        "print(X_train_cnn.shape)\n",
        "print(X_val_cnn.shape)"
      ],
      "execution_count": 12,
      "outputs": [
        {
          "output_type": "stream",
          "text": [
            "(48000, 28, 28, 1)\n",
            "(12000, 28, 28, 1)\n"
          ],
          "name": "stdout"
        }
      ]
    },
    {
      "cell_type": "code",
      "metadata": {
        "id": "yi-AoA6zE4NI",
        "colab_type": "code",
        "colab": {}
      },
      "source": [
        "batch_size = 256\n",
        "num_epochs = 50"
      ],
      "execution_count": 13,
      "outputs": []
    },
    {
      "cell_type": "markdown",
      "metadata": {
        "id": "XU-YQ0KNGY8B",
        "colab_type": "text"
      },
      "source": [
        "#**Convolutional Neural Networks** (CNN)"
      ]
    },
    {
      "cell_type": "code",
      "metadata": {
        "id": "TTGlpobPGbB0",
        "colab_type": "code",
        "colab": {}
      },
      "source": [
        "from keras.models import Sequential\n",
        "from keras.layers import Dense, Dropout, Flatten\n",
        "from keras.layers import Conv2D, MaxPooling2D"
      ],
      "execution_count": 14,
      "outputs": []
    },
    {
      "cell_type": "code",
      "metadata": {
        "id": "mh9MSijVGdZG",
        "colab_type": "code",
        "colab": {
          "base_uri": "https://localhost:8080/",
          "height": 454
        },
        "outputId": "6cc96ffc-93fc-4a83-f190-9278383d0c72"
      },
      "source": [
        "input_shape = (28,28,1)\n",
        "\n",
        "model_cnn = Sequential()\n",
        "model_cnn.add(Conv2D(30,(5,5) , activation='relu',\n",
        "                     kernel_initializer='normal', input_shape=(28,28,1)))\n",
        "model_cnn.add(MaxPooling2D())\n",
        "model_cnn.add(Conv2D(15,(3,3),activation='relu'))\n",
        "model_cnn.add(MaxPooling2D())\n",
        "model_cnn.add(Dropout(0.2))\n",
        "model_cnn.add(Flatten())\n",
        "model_cnn.add(Dense(128,  activation='relu'))\n",
        "\n",
        "model_cnn.add(Dense(50, activation='relu'))\n",
        "\n",
        "model_cnn.add(Dense(10, activation='softmax'))\n",
        "\n",
        "model_cnn.compile(loss='categorical_crossentropy',\n",
        "                  optimizer='adam',\n",
        "                  metrics=['accuracy'])\n",
        "\n",
        "model_cnn.summary()"
      ],
      "execution_count": 15,
      "outputs": [
        {
          "output_type": "stream",
          "text": [
            "Model: \"sequential_1\"\n",
            "_________________________________________________________________\n",
            "Layer (type)                 Output Shape              Param #   \n",
            "=================================================================\n",
            "conv2d_1 (Conv2D)            (None, 24, 24, 30)        780       \n",
            "_________________________________________________________________\n",
            "max_pooling2d_1 (MaxPooling2 (None, 12, 12, 30)        0         \n",
            "_________________________________________________________________\n",
            "conv2d_2 (Conv2D)            (None, 10, 10, 15)        4065      \n",
            "_________________________________________________________________\n",
            "max_pooling2d_2 (MaxPooling2 (None, 5, 5, 15)          0         \n",
            "_________________________________________________________________\n",
            "dropout_1 (Dropout)          (None, 5, 5, 15)          0         \n",
            "_________________________________________________________________\n",
            "flatten_1 (Flatten)          (None, 375)               0         \n",
            "_________________________________________________________________\n",
            "dense_1 (Dense)              (None, 128)               48128     \n",
            "_________________________________________________________________\n",
            "dense_2 (Dense)              (None, 50)                6450      \n",
            "_________________________________________________________________\n",
            "dense_3 (Dense)              (None, 10)                510       \n",
            "=================================================================\n",
            "Total params: 59,933\n",
            "Trainable params: 59,933\n",
            "Non-trainable params: 0\n",
            "_________________________________________________________________\n"
          ],
          "name": "stdout"
        }
      ]
    },
    {
      "cell_type": "code",
      "metadata": {
        "id": "Gc6Y2DdYGgpV",
        "colab_type": "code",
        "colab": {
          "base_uri": "https://localhost:8080/",
          "height": 1000
        },
        "outputId": "55e02773-9403-4a31-db3c-f4d3ad100099"
      },
      "source": [
        "history_cnn = model_cnn.fit(X_train_cnn, Y_train_cnn,\n",
        "                                    batch_size = batch_size,\n",
        "                                    epochs = num_epochs,\n",
        "                                    verbose = 1,\n",
        "                                    validation_data = (X_val_cnn,Y_val_cnn))"
      ],
      "execution_count": 16,
      "outputs": [
        {
          "output_type": "stream",
          "text": [
            "Train on 48000 samples, validate on 12000 samples\n",
            "Epoch 1/50\n",
            "48000/48000 [==============================] - 8s 176us/step - loss: 0.8402 - accuracy: 0.6921 - val_loss: 0.5348 - val_accuracy: 0.7990\n",
            "Epoch 2/50\n",
            "48000/48000 [==============================] - 2s 47us/step - loss: 0.5028 - accuracy: 0.8166 - val_loss: 0.4362 - val_accuracy: 0.8456\n",
            "Epoch 3/50\n",
            "48000/48000 [==============================] - 2s 47us/step - loss: 0.4361 - accuracy: 0.8421 - val_loss: 0.4003 - val_accuracy: 0.8601\n",
            "Epoch 4/50\n",
            "48000/48000 [==============================] - 2s 47us/step - loss: 0.4036 - accuracy: 0.8539 - val_loss: 0.3555 - val_accuracy: 0.8734\n",
            "Epoch 5/50\n",
            "48000/48000 [==============================] - 2s 46us/step - loss: 0.3781 - accuracy: 0.8617 - val_loss: 0.3460 - val_accuracy: 0.8770\n",
            "Epoch 6/50\n",
            "48000/48000 [==============================] - 2s 47us/step - loss: 0.3609 - accuracy: 0.8689 - val_loss: 0.3473 - val_accuracy: 0.8722\n",
            "Epoch 7/50\n",
            "48000/48000 [==============================] - 2s 47us/step - loss: 0.3428 - accuracy: 0.8749 - val_loss: 0.3205 - val_accuracy: 0.8829\n",
            "Epoch 8/50\n",
            "48000/48000 [==============================] - 2s 48us/step - loss: 0.3336 - accuracy: 0.8782 - val_loss: 0.3156 - val_accuracy: 0.8823\n",
            "Epoch 9/50\n",
            "48000/48000 [==============================] - 2s 47us/step - loss: 0.3211 - accuracy: 0.8824 - val_loss: 0.2935 - val_accuracy: 0.8923\n",
            "Epoch 10/50\n",
            "48000/48000 [==============================] - 2s 47us/step - loss: 0.3137 - accuracy: 0.8849 - val_loss: 0.2887 - val_accuracy: 0.8937\n",
            "Epoch 11/50\n",
            "48000/48000 [==============================] - 2s 47us/step - loss: 0.3050 - accuracy: 0.8882 - val_loss: 0.2912 - val_accuracy: 0.8927\n",
            "Epoch 12/50\n",
            "48000/48000 [==============================] - 2s 47us/step - loss: 0.2970 - accuracy: 0.8901 - val_loss: 0.2781 - val_accuracy: 0.8967\n",
            "Epoch 13/50\n",
            "48000/48000 [==============================] - 2s 47us/step - loss: 0.2869 - accuracy: 0.8940 - val_loss: 0.2805 - val_accuracy: 0.8977\n",
            "Epoch 14/50\n",
            "48000/48000 [==============================] - 2s 47us/step - loss: 0.2818 - accuracy: 0.8963 - val_loss: 0.2804 - val_accuracy: 0.8962\n",
            "Epoch 15/50\n",
            "48000/48000 [==============================] - 2s 46us/step - loss: 0.2781 - accuracy: 0.8975 - val_loss: 0.2663 - val_accuracy: 0.9016\n",
            "Epoch 16/50\n",
            "48000/48000 [==============================] - 2s 46us/step - loss: 0.2702 - accuracy: 0.9007 - val_loss: 0.2787 - val_accuracy: 0.8988\n",
            "Epoch 17/50\n",
            "48000/48000 [==============================] - 2s 46us/step - loss: 0.2659 - accuracy: 0.9010 - val_loss: 0.2630 - val_accuracy: 0.9031\n",
            "Epoch 18/50\n",
            "48000/48000 [==============================] - 2s 46us/step - loss: 0.2584 - accuracy: 0.9054 - val_loss: 0.2642 - val_accuracy: 0.9014\n",
            "Epoch 19/50\n",
            "48000/48000 [==============================] - 2s 46us/step - loss: 0.2517 - accuracy: 0.9073 - val_loss: 0.2559 - val_accuracy: 0.9078\n",
            "Epoch 20/50\n",
            "48000/48000 [==============================] - 2s 47us/step - loss: 0.2499 - accuracy: 0.9069 - val_loss: 0.2544 - val_accuracy: 0.9055\n",
            "Epoch 21/50\n",
            "48000/48000 [==============================] - 2s 49us/step - loss: 0.2430 - accuracy: 0.9104 - val_loss: 0.2500 - val_accuracy: 0.9064\n",
            "Epoch 22/50\n",
            "48000/48000 [==============================] - 2s 49us/step - loss: 0.2433 - accuracy: 0.9095 - val_loss: 0.2485 - val_accuracy: 0.9096\n",
            "Epoch 23/50\n",
            "48000/48000 [==============================] - 2s 46us/step - loss: 0.2355 - accuracy: 0.9118 - val_loss: 0.2467 - val_accuracy: 0.9090\n",
            "Epoch 24/50\n",
            "48000/48000 [==============================] - 2s 46us/step - loss: 0.2305 - accuracy: 0.9136 - val_loss: 0.2438 - val_accuracy: 0.9111\n",
            "Epoch 25/50\n",
            "48000/48000 [==============================] - 2s 46us/step - loss: 0.2265 - accuracy: 0.9137 - val_loss: 0.2437 - val_accuracy: 0.9103\n",
            "Epoch 26/50\n",
            "48000/48000 [==============================] - 2s 46us/step - loss: 0.2244 - accuracy: 0.9158 - val_loss: 0.2437 - val_accuracy: 0.9107\n",
            "Epoch 27/50\n",
            "48000/48000 [==============================] - 2s 46us/step - loss: 0.2188 - accuracy: 0.9183 - val_loss: 0.2513 - val_accuracy: 0.9062\n",
            "Epoch 28/50\n",
            "48000/48000 [==============================] - 2s 46us/step - loss: 0.2169 - accuracy: 0.9187 - val_loss: 0.2471 - val_accuracy: 0.9089\n",
            "Epoch 29/50\n",
            "48000/48000 [==============================] - 2s 46us/step - loss: 0.2136 - accuracy: 0.9194 - val_loss: 0.2387 - val_accuracy: 0.9115\n",
            "Epoch 30/50\n",
            "48000/48000 [==============================] - 2s 46us/step - loss: 0.2101 - accuracy: 0.9205 - val_loss: 0.2318 - val_accuracy: 0.9168\n",
            "Epoch 31/50\n",
            "48000/48000 [==============================] - 2s 46us/step - loss: 0.2068 - accuracy: 0.9221 - val_loss: 0.2311 - val_accuracy: 0.9172\n",
            "Epoch 32/50\n",
            "48000/48000 [==============================] - 2s 46us/step - loss: 0.2039 - accuracy: 0.9238 - val_loss: 0.2350 - val_accuracy: 0.9149\n",
            "Epoch 33/50\n",
            "48000/48000 [==============================] - 2s 46us/step - loss: 0.1972 - accuracy: 0.9259 - val_loss: 0.2323 - val_accuracy: 0.9143\n",
            "Epoch 34/50\n",
            "48000/48000 [==============================] - 2s 46us/step - loss: 0.1949 - accuracy: 0.9266 - val_loss: 0.2439 - val_accuracy: 0.9114\n",
            "Epoch 35/50\n",
            "48000/48000 [==============================] - 2s 46us/step - loss: 0.1930 - accuracy: 0.9265 - val_loss: 0.2294 - val_accuracy: 0.9172\n",
            "Epoch 36/50\n",
            "48000/48000 [==============================] - 2s 46us/step - loss: 0.1935 - accuracy: 0.9264 - val_loss: 0.2274 - val_accuracy: 0.9183\n",
            "Epoch 37/50\n",
            "48000/48000 [==============================] - 2s 46us/step - loss: 0.1878 - accuracy: 0.9299 - val_loss: 0.2320 - val_accuracy: 0.9147\n",
            "Epoch 38/50\n",
            "48000/48000 [==============================] - 2s 46us/step - loss: 0.1832 - accuracy: 0.9306 - val_loss: 0.2321 - val_accuracy: 0.9171\n",
            "Epoch 39/50\n",
            "48000/48000 [==============================] - 2s 45us/step - loss: 0.1821 - accuracy: 0.9306 - val_loss: 0.2361 - val_accuracy: 0.9141\n",
            "Epoch 40/50\n",
            "48000/48000 [==============================] - 2s 45us/step - loss: 0.1794 - accuracy: 0.9315 - val_loss: 0.2348 - val_accuracy: 0.9181\n",
            "Epoch 41/50\n",
            "48000/48000 [==============================] - 2s 46us/step - loss: 0.1758 - accuracy: 0.9331 - val_loss: 0.2289 - val_accuracy: 0.9197\n",
            "Epoch 42/50\n",
            "48000/48000 [==============================] - 2s 47us/step - loss: 0.1729 - accuracy: 0.9355 - val_loss: 0.2386 - val_accuracy: 0.9172\n",
            "Epoch 43/50\n",
            "48000/48000 [==============================] - 2s 46us/step - loss: 0.1751 - accuracy: 0.9345 - val_loss: 0.2388 - val_accuracy: 0.9146\n",
            "Epoch 44/50\n",
            "48000/48000 [==============================] - 2s 46us/step - loss: 0.1688 - accuracy: 0.9355 - val_loss: 0.2305 - val_accuracy: 0.9202\n",
            "Epoch 45/50\n",
            "48000/48000 [==============================] - 2s 46us/step - loss: 0.1690 - accuracy: 0.9360 - val_loss: 0.2373 - val_accuracy: 0.9166\n",
            "Epoch 46/50\n",
            "48000/48000 [==============================] - 2s 46us/step - loss: 0.1677 - accuracy: 0.9358 - val_loss: 0.2315 - val_accuracy: 0.9189\n",
            "Epoch 47/50\n",
            "48000/48000 [==============================] - 2s 46us/step - loss: 0.1623 - accuracy: 0.9373 - val_loss: 0.2351 - val_accuracy: 0.9188\n",
            "Epoch 48/50\n",
            "48000/48000 [==============================] - 2s 46us/step - loss: 0.1634 - accuracy: 0.9373 - val_loss: 0.2358 - val_accuracy: 0.9183\n",
            "Epoch 49/50\n",
            "48000/48000 [==============================] - 2s 46us/step - loss: 0.1579 - accuracy: 0.9402 - val_loss: 0.2303 - val_accuracy: 0.9187\n",
            "Epoch 50/50\n",
            "48000/48000 [==============================] - 2s 46us/step - loss: 0.1596 - accuracy: 0.9391 - val_loss: 0.2344 - val_accuracy: 0.9185\n"
          ],
          "name": "stdout"
        }
      ]
    },
    {
      "cell_type": "code",
      "metadata": {
        "id": "4qbDreDDGpfv",
        "colab_type": "code",
        "colab": {
          "base_uri": "https://localhost:8080/",
          "height": 84
        },
        "outputId": "3a675cf5-66d1-4bae-b90e-12b430e25f1c"
      },
      "source": [
        "score = model_cnn.evaluate(X_test_cnn, Y_test_cnn, verbose = 1)\n",
        "print()\n",
        "print('CNN Test loss:', score[0])\n",
        "print('CNN Test accuracy:', score[1])"
      ],
      "execution_count": 17,
      "outputs": [
        {
          "output_type": "stream",
          "text": [
            "10000/10000 [==============================] - 1s 105us/step\n",
            "\n",
            "CNN Test loss: 0.2600678730547428\n",
            "CNN Test accuracy: 0.9118000268936157\n"
          ],
          "name": "stdout"
        }
      ]
    },
    {
      "cell_type": "markdown",
      "metadata": {
        "id": "wx3XMLaeKItg",
        "colab_type": "text"
      },
      "source": [
        "*Predicting for a random image*"
      ]
    },
    {
      "cell_type": "code",
      "metadata": {
        "id": "XiKL7adLA1Up",
        "colab_type": "code",
        "colab": {}
      },
      "source": [
        "import numpy as np\n",
        "from keras.preprocessing import image\n",
        "test_image = image.load_img('/content/sample_img2.jpg', target_size = (28, 28))\n",
        "test_image = image.img_to_array(test_image)\n",
        "test_image = np.expand_dims(test_image, axis = 0)\n",
        "test_image= np.delete(test_image,(1,2),axis=-1)\n"
      ],
      "execution_count": 35,
      "outputs": []
    },
    {
      "cell_type": "code",
      "metadata": {
        "id": "6IBhksDcCTwt",
        "colab_type": "code",
        "colab": {
          "base_uri": "https://localhost:8080/",
          "height": 34
        },
        "outputId": "9206623c-32b8-479a-ad09-2e05453ccc12"
      },
      "source": [
        "result = model_cnn.predict(test_image)\n",
        "\n",
        "print(result)"
      ],
      "execution_count": 36,
      "outputs": [
        {
          "output_type": "stream",
          "text": [
            "[[0. 0. 0. 0. 0. 1. 0. 0. 0. 0.]]\n"
          ],
          "name": "stdout"
        }
      ]
    }
  ]
}